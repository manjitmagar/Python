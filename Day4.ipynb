{
  "nbformat": 4,
  "nbformat_minor": 0,
  "metadata": {
    "colab": {
      "provenance": [],
      "authorship_tag": "ABX9TyOWCCjFrqpdgEIYfIk7RxmJ",
      "include_colab_link": true
    },
    "kernelspec": {
      "name": "python3",
      "display_name": "Python 3"
    },
    "language_info": {
      "name": "python"
    }
  },
  "cells": [
    {
      "cell_type": "markdown",
      "metadata": {
        "id": "view-in-github",
        "colab_type": "text"
      },
      "source": [
        "<a href=\"https://colab.research.google.com/github/manjitmagar/Python/blob/main/Day4.ipynb\" target=\"_parent\"><img src=\"https://colab.research.google.com/assets/colab-badge.svg\" alt=\"Open In Colab\"/></a>"
      ]
    },
    {
      "cell_type": "code",
      "execution_count": 7,
      "metadata": {
        "colab": {
          "base_uri": "https://localhost:8080/"
        },
        "id": "iBT4DpuO1ZSO",
        "outputId": "cf48473d-0dbf-4660-9243-1fd93a78ddd0"
      },
      "outputs": [
        {
          "name": "stdout",
          "output_type": "stream",
          "text": [
            "What do you want to doexit\n"
          ]
        }
      ],
      "source": [
        "while True:\n",
        "  value = input(\"What do you want to do\")\n",
        "  if(value == 'exit'):\n",
        "    break\n",
        "  value1 = int(input(\"Enter first Number\"))\n",
        "  value2 = int(input(\"Enter Second Number\"))\n",
        "\n",
        "  if(value == '+'):\n",
        "    print(value1+value2)\n",
        "\n",
        "  elif(value == '-'):\n",
        "    print(value1-value2)\n",
        "  elif(value == '*'):\n",
        "    print(value1*value2)\n",
        "  elif(value == '/'):\n",
        "    print(value1/value2)\n",
        "\n",
        "  else:\n",
        "    print(\"ok\")\n",
        "\n"
      ]
    },
    {
      "cell_type": "code",
      "source": [
        "list = []"
      ],
      "metadata": {
        "id": "gQfL19jv7aM3"
      },
      "execution_count": 8,
      "outputs": []
    },
    {
      "cell_type": "code",
      "source": [
        "num1=1\n",
        "num2=2"
      ],
      "metadata": {
        "id": "47FYNCL6_QdO"
      },
      "execution_count": 9,
      "outputs": []
    },
    {
      "cell_type": "code",
      "source": [
        "list.append(num1)"
      ],
      "metadata": {
        "id": "00Rc-cZI_WYo"
      },
      "execution_count": 10,
      "outputs": []
    },
    {
      "cell_type": "code",
      "source": [
        "list\n"
      ],
      "metadata": {
        "colab": {
          "base_uri": "https://localhost:8080/"
        },
        "id": "fY5i2Edl_a19",
        "outputId": "67e02c1a-692b-41e9-cb44-27371c5c62de"
      },
      "execution_count": 11,
      "outputs": [
        {
          "output_type": "execute_result",
          "data": {
            "text/plain": [
              "[1]"
            ]
          },
          "metadata": {},
          "execution_count": 11
        }
      ]
    },
    {
      "cell_type": "code",
      "source": [
        "list.append(num2)"
      ],
      "metadata": {
        "id": "-rZQ97qr_cIu"
      },
      "execution_count": 12,
      "outputs": []
    },
    {
      "cell_type": "code",
      "source": [
        "print(min(list))\n",
        "print(max(list))"
      ],
      "metadata": {
        "colab": {
          "base_uri": "https://localhost:8080/"
        },
        "id": "N4zioaFf_e6i",
        "outputId": "7e46a92a-bc2a-4040-d906-b379e50b59d7"
      },
      "execution_count": 15,
      "outputs": [
        {
          "output_type": "stream",
          "name": "stdout",
          "text": [
            "1\n",
            "2\n"
          ]
        }
      ]
    },
    {
      "cell_type": "code",
      "source": [
        "list.append(9)\n",
        "list.append(10)\n",
        "list.append(11)"
      ],
      "metadata": {
        "id": "PvFjM4Y-_3H3"
      },
      "execution_count": 16,
      "outputs": []
    },
    {
      "cell_type": "code",
      "source": [
        "list\n"
      ],
      "metadata": {
        "colab": {
          "base_uri": "https://localhost:8080/"
        },
        "id": "mdscJ0UPAuzR",
        "outputId": "ab8411a8-8c90-458c-bed0-76ab895d4915"
      },
      "execution_count": 17,
      "outputs": [
        {
          "output_type": "execute_result",
          "data": {
            "text/plain": [
              "[1, 2, 9, 10, 11]"
            ]
          },
          "metadata": {},
          "execution_count": 17
        }
      ]
    },
    {
      "cell_type": "code",
      "source": [
        "print(\"Smallest number is:\",min(list))\n",
        "print(\"Largest number is:\",max(list))"
      ],
      "metadata": {
        "colab": {
          "base_uri": "https://localhost:8080/"
        },
        "id": "EuZdZdX5AwQb",
        "outputId": "19670269-9fa3-4968-dbe9-ff935d6e044d"
      },
      "execution_count": 23,
      "outputs": [
        {
          "output_type": "stream",
          "name": "stdout",
          "text": [
            "Smallest number is: 1\n",
            "Largest number is: 11\n"
          ]
        }
      ]
    },
    {
      "cell_type": "code",
      "source": [
        "print(len(list))"
      ],
      "metadata": {
        "colab": {
          "base_uri": "https://localhost:8080/"
        },
        "id": "L6r4iT6CAyOw",
        "outputId": "ea75bb25-3c93-495a-b95d-ebf9604518fa"
      },
      "execution_count": 22,
      "outputs": [
        {
          "output_type": "stream",
          "name": "stdout",
          "text": [
            "5\n"
          ]
        }
      ]
    },
    {
      "cell_type": "code",
      "source": [
        "items = {\n",
        "    \"milk\":{\"quantity\": 1,\"price\": 200 },\n",
        "    \"meat\":{\"quantity\": 1,\"price\": 400 },\n",
        "    \"silk\":{\"quantity\": 9,\"price\": 500 },\n",
        "    \"noodles\":{\"quantity\": 1,\"price\": 20 }\n",
        "    }"
      ],
      "metadata": {
        "id": "chDJCZZiBQdr"
      },
      "execution_count": 31,
      "outputs": []
    },
    {
      "cell_type": "code",
      "source": [
        "items\n"
      ],
      "metadata": {
        "colab": {
          "base_uri": "https://localhost:8080/"
        },
        "id": "pn5Ty37SCohI",
        "outputId": "4865a20e-de33-480e-8d70-138964077090"
      },
      "execution_count": 32,
      "outputs": [
        {
          "output_type": "execute_result",
          "data": {
            "text/plain": [
              "{'milk': {'quantity': 1, 'price': 200},\n",
              " 'meat': {'quantity': 1, 'price': 400},\n",
              " 'silk': {'quantity': 9, 'price': 500},\n",
              " 'noodles': {'quantity': 1, 'price': 20}}"
            ]
          },
          "metadata": {},
          "execution_count": 32
        }
      ]
    },
    {
      "cell_type": "code",
      "source": [
        "user_li = [\"quantity\",\"price\"]\n",
        "\n",
        "quan = input(\"Enter quantity\")\n",
        "pri = input(\"Enter price\")\n"
      ],
      "metadata": {
        "colab": {
          "base_uri": "https://localhost:8080/"
        },
        "id": "xhzXx2Y4Cwh2",
        "outputId": "641ee0a2-e1f8-42cb-f8bc-7f9549780e95"
      },
      "execution_count": 40,
      "outputs": [
        {
          "name": "stdout",
          "output_type": "stream",
          "text": [
            "Enter quantitymeat\n",
            "Enter price200\n"
          ]
        }
      ]
    },
    {
      "cell_type": "code",
      "source": [
        "user_li[0] = quan\n",
        "user_li[1] = pri"
      ],
      "metadata": {
        "id": "m0fZKY64GQn6"
      },
      "execution_count": 41,
      "outputs": []
    },
    {
      "cell_type": "code",
      "source": [
        "user_li\n"
      ],
      "metadata": {
        "colab": {
          "base_uri": "https://localhost:8080/"
        },
        "id": "I9GfvkIVHrxB",
        "outputId": "40b011b4-aa53-43b4-8d95-336da185f0e4"
      },
      "execution_count": 42,
      "outputs": [
        {
          "output_type": "execute_result",
          "data": {
            "text/plain": [
              "['meat', '200']"
            ]
          },
          "metadata": {},
          "execution_count": 42
        }
      ]
    },
    {
      "cell_type": "code",
      "source": [],
      "metadata": {
        "id": "abgf2pelHtyx"
      },
      "execution_count": null,
      "outputs": []
    }
  ]
}